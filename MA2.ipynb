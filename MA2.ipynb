{
 "cells": [
  {
   "cell_type": "markdown",
   "metadata": {},
   "source": [
    "# Introduction"
   ]
  },
  {
   "cell_type": "markdown",
   "metadata": {},
   "source": [
    "## Libary Import"
   ]
  },
  {
   "cell_type": "code",
   "execution_count": 1,
   "metadata": {},
   "outputs": [],
   "source": [
    " ''' Libary Import ''' \n",
    "import pandas as pd\n",
    "import numpy as np\n",
    " \n",
    "#Data Visualization\n",
    "import matplotlib\n",
    "import matplotlib.pyplot as plt\n",
    "import matplotlib.ticker as ticker\n",
    "\n",
    "import seaborn as sns\n",
    "import plotly.graph_objects as go\n",
    "import plotly.offline as pyo \n",
    "\n",
    "pd.options.mode.chained_assignment = None  # default='warn'\n",
    " \n",
    "#General Plotting Setting\n",
    "plt.rcParams.update({'font.size': 11,'figure.figsize': (16,9)})"
   ]
  },
  {
   "cell_type": "markdown",
   "metadata": {},
   "source": [
    "# Main Section"
   ]
  },
  {
   "cell_type": "markdown",
   "metadata": {},
   "source": [
    "## Task 1"
   ]
  },
  {
   "cell_type": "markdown",
   "metadata": {},
   "source": [
    "#### Importing Data"
   ]
  },
  {
   "cell_type": "code",
   "execution_count": 2,
   "metadata": {},
   "outputs": [],
   "source": [
    "# Importing Data\n",
    "netflix = pd.read_csv('netflix.csv')"
   ]
  },
  {
   "cell_type": "markdown",
   "metadata": {},
   "source": [
    "#### Dataframe shape"
   ]
  },
  {
   "cell_type": "code",
   "execution_count": 3,
   "metadata": {},
   "outputs": [
    {
     "name": "stdout",
     "output_type": "stream",
     "text": [
      "Netflix dataset, consist of 12 columns and 8807 rows\n"
     ]
    }
   ],
   "source": [
    "# Outputting shape of dataset\n",
    "print(f'Netflix dataset, consist of {len(netflix.columns)} columns and {len(netflix)} rows')"
   ]
  },
  {
   "cell_type": "markdown",
   "metadata": {},
   "source": [
    "#### Dataframe columns"
   ]
  },
  {
   "cell_type": "code",
   "execution_count": 4,
   "metadata": {},
   "outputs": [],
   "source": [
    "test = [\"1\", \"2\", \"3\", \"4\"]"
   ]
  },
  {
   "cell_type": "code",
   "execution_count": 5,
   "metadata": {},
   "outputs": [
    {
     "name": "stdout",
     "output_type": "stream",
     "text": [
      "The dataframe consist of the following columns:\n",
      " ['show_id', 'type', 'title', 'director', 'cast', 'country', 'date_added', 'release_year', 'rating', 'duration', 'listed_in', 'description']\n"
     ]
    }
   ],
   "source": [
    "print(f'The dataframe consist of the following columns:\\n {netflix.columns.to_list()}')"
   ]
  },
  {
   "cell_type": "markdown",
   "metadata": {},
   "source": [
    "#### Sum of non null values + data types across dataframe"
   ]
  },
  {
   "cell_type": "code",
   "execution_count": 6,
   "metadata": {},
   "outputs": [
    {
     "name": "stdout",
     "output_type": "stream",
     "text": [
      "<class 'pandas.core.frame.DataFrame'>\n",
      "RangeIndex: 8807 entries, 0 to 8806\n",
      "Data columns (total 12 columns):\n",
      " #   Column        Non-Null Count  Dtype \n",
      "---  ------        --------------  ----- \n",
      " 0   show_id       8807 non-null   object\n",
      " 1   type          8807 non-null   object\n",
      " 2   title         8807 non-null   object\n",
      " 3   director      6173 non-null   object\n",
      " 4   cast          7982 non-null   object\n",
      " 5   country       7976 non-null   object\n",
      " 6   date_added    8797 non-null   object\n",
      " 7   release_year  8807 non-null   int64 \n",
      " 8   rating        8803 non-null   object\n",
      " 9   duration      8804 non-null   object\n",
      " 10  listed_in     8807 non-null   object\n",
      " 11  description   8807 non-null   object\n",
      "dtypes: int64(1), object(11)\n",
      "memory usage: 825.8+ KB\n",
      "Dataframe datatype:  \n",
      "None\n"
     ]
    }
   ],
   "source": [
    "# Sum of non-nan values in columns and data type\n",
    "print(f'Dataframe datatype:  \\n{netflix.info()}')"
   ]
  },
  {
   "cell_type": "markdown",
   "metadata": {},
   "source": [
    "#### Visualising most popular release year"
   ]
  },
  {
   "cell_type": "code",
   "execution_count": 7,
   "metadata": {},
   "outputs": [
    {
     "data": {
      "image/png": "[encoded data removed]",
      "text/plain": [
       "<Figure size 864x504 with 1 Axes>"
      ]
     },
     "metadata": {
      "needs_background": "light"
     },
     "output_type": "display_data"
    }
   ],
   "source": [
    "fix, axs = plt.subplots(figsize=(12,7))\n",
    "\n",
    "# Adding annotations\n",
    "graph_1 = (netflix[netflix.type == 'Movie']\n",
    "           .release_year\n",
    "           .value_counts()\n",
    "           .head(20)\n",
    "                .plot(kind='bar', color=['blue' if value > 400 else \"grey\" for value in netflix[netflix.type == 'Movie']\n",
    "                .release_year\n",
    "                .value_counts()]))\n",
    "\n",
    "for p in graph_1.patches:\n",
    "        graph_1.annotate('{:,.0f}'.format(p.get_height()), (p.get_x()+0.25, p.get_height()+5),\n",
    "                    ha='center', va='bottom',\n",
    "                    color= 'black')\n",
    "        \n",
    "\n",
    "# Removing chart border and adding grid lines for easier visual interpretation\n",
    "sns.despine(bottom = False, left = True)\n",
    "axs.yaxis.grid(True, linewidth=0.2) \n",
    "\n",
    "#Rotation xticks to horizontal\n",
    "axs.set_xticklabels(labels=netflix[netflix.type == 'Movie'].release_year.value_counts().head(20).keys(), rotation=0)\n",
    "\n",
    "plt.title(f\"Most popular release years for netflix movies\")\n",
    "plt.show()\n"
   ]
  },
  {
   "cell_type": "markdown",
   "metadata": {},
   "source": [
    "#### Distribution of movies and TV shows in dataframe"
   ]
  },
  {
   "cell_type": "code",
   "execution_count": 8,
   "metadata": {},
   "outputs": [
    {
     "data": {
      "image/png": "[encoded data removed]",
      "text/plain": [
       "<Figure size 864x504 with 1 Axes>"
      ]
     },
     "metadata": {
      "needs_background": "light"
     },
     "output_type": "display_data"
    }
   ],
   "source": [
    "fix, axs = plt.subplots(figsize=(12,7))\n",
    "graph = netflix.type.value_counts().plot(kind='bar', color = \"grey\", ax=axs)\n",
    "\n",
    "#Adding annotations\n",
    "for p in graph.patches:\n",
    "        graph.annotate('{:,.0f}'.format(p.get_height()), (p.get_x()+0.25, p.get_height()+45),\n",
    "                    ha='center', va='bottom',\n",
    "                    color= 'black')\n",
    "        \n",
    "\n",
    "# Removing chart border and adding grid lines for easier visual interpretation\n",
    "sns.despine(bottom = False, left = True)\n",
    "axs.yaxis.grid(True, linewidth=0.2) \n",
    "\n",
    "#Rotation xticks to horizontal\n",
    "axs.set_xticklabels(labels=netflix.type.unique(), rotation=0)\n",
    "\n",
    "plt.title(f\"Movies make up {len(netflix[netflix.type == 'Movie'])/len(netflix):.0%} of all rows in dataframe\")\n",
    "plt.show()"
   ]
  },
  {
   "cell_type": "markdown",
   "metadata": {},
   "source": [
    "## Task 2"
   ]
  },
  {
   "cell_type": "markdown",
   "metadata": {},
   "source": [
    "#### Count of movies in dataframe"
   ]
  },
  {
   "cell_type": "code",
   "execution_count": 9,
   "metadata": {},
   "outputs": [
    {
     "name": "stdout",
     "output_type": "stream",
     "text": [
      "The total number of movies in dataframe is 6131 \n"
     ]
    }
   ],
   "source": [
    "# This question have more or less already been answered through the visualization above\n",
    "print(f\"The total number of movies in dataframe is {len(netflix[netflix.type == 'Movie'])} \")"
   ]
  },
  {
   "cell_type": "markdown",
   "metadata": {},
   "source": [
    "## Task 3"
   ]
  },
  {
   "cell_type": "markdown",
   "metadata": {},
   "source": [
    "To add a continent column to the dataframe, the easiest and simplest way would be to use ***pd.merge*** between the netflix dataframe and an external continent dataframe, however, this would produce a lot of null values for those records in which there are multiple countries in one cell, as you can not merge strings on lists. One way to combat this, would be using index 0 for all elements in each country cell, so that we just always used the first notated country. This would be an easy solve for the previously mentioned issue, however, that would mean that alot of continents will not be accounted for. \n",
    "\n",
    "Therefore, to overcome these issues, we have transformed each cell in the ```country``` column into a list, containing all the notated countries as a individual element each (For Nulls, these list will just be ```['nan']```). Next we transform the continent dataframe into a dictionary, with countries as keys and continent as values. We then loop through each element of each list in the ```country_list``` column, to find the corresponding value in the continent dictionary, and then outputs those to a string sequence. E.g.\n",
    "\n",
    "Country Cell:\\\n",
    "```United States, Germany, Italy```\n",
    "\n",
    "Country List Cell (formatted country cell) \\\n",
    "```['United States', 'Germany', 'Italy']```\n",
    "\n",
    "Continent Output:\\\n",
    "``` ['Americas', 'Europe'] ``` &rarr; ```Americas, Europe```\n",
    "\n"
   ]
  },
  {
   "cell_type": "code",
   "execution_count": 10,
   "metadata": {},
   "outputs": [],
   "source": [
    "# Importing continent dataframe\n",
    "continent = pd.read_csv('countryContinent.csv').rename(columns={'name':'country', 'region':'continent'})\n",
    "\n",
    "#Replacing Palestine value, as it caused some issues later\n",
    "continent = continent.replace({'Palestine, State of':'Palestine'})\n",
    "\n",
    "# Transforming to dict\n",
    "continent = continent.set_index('country').to_dict()['continent']\n",
    "\n",
    "# Adding two keys and their correpsonding values to dictionary, as they exists in netflix dataframe.add()\n",
    "continent['Soviet Union'] = 'Europe'\n",
    "continent['Vatican City'] = 'Europe'"
   ]
  },
  {
   "cell_type": "code",
   "execution_count": 11,
   "metadata": {},
   "outputs": [],
   "source": [
    "# Replacing directions from Germany, and instead making it into one (Specifying Germany to not overwrite e.g. South Africa)\n",
    "netflix['country'] = (netflix.country.str.replace('|'.join(['West Germany', 'East Germany', 'North Germany', 'South Germany']),'Germany', regex=True))"
   ]
  },
  {
   "cell_type": "code",
   "execution_count": 12,
   "metadata": {},
   "outputs": [],
   "source": [
    "#Transforming countries to list\n",
    "netflix['country_list'] = netflix.country.apply(lambda x: list(str(x).split(',')))\n",
    "\n",
    "# There were a few instances of empty strings in lists, so to combat errors we removed them\n",
    "netflix['country_list'] = [list(filter(None, sublist)) for sublist in netflix.country_list]\n",
    "\n",
    "# Adding continent column to all non-null rows and dropping country_list column\n",
    "netflix = netflix.assign(\n",
    "    continent = lambda x: x.loc[netflix.country.notna()].country_list.map(lambda x: str(set([continent[v.strip()] for v in x]))[1:-1].replace(\"'\",''))\n",
    ").drop(columns='country_list')"
   ]
  },
  {
   "cell_type": "markdown",
   "metadata": {},
   "source": [
    "#### Output - first 10 continent rows"
   ]
  },
  {
   "cell_type": "code",
   "execution_count": 13,
   "metadata": {},
   "outputs": [
    {
     "data": {
      "text/plain": [
       "0                    Americas\n",
       "1                      Africa\n",
       "2                         NaN\n",
       "3                         NaN\n",
       "4                        Asia\n",
       "5                         NaN\n",
       "6                         NaN\n",
       "7    Africa, Americas, Europe\n",
       "8                      Europe\n",
       "9                    Americas\n",
       "Name: continent, dtype: object"
      ]
     },
     "execution_count": 13,
     "metadata": {},
     "output_type": "execute_result"
    }
   ],
   "source": [
    "# Notice index 7, where multiple continents are listed\n",
    "netflix[:10].continent"
   ]
  },
  {
   "cell_type": "markdown",
   "metadata": {},
   "source": [
    "## Task 4"
   ]
  },
  {
   "cell_type": "markdown",
   "metadata": {},
   "source": [
    "#### Importing Data"
   ]
  },
  {
   "cell_type": "code",
   "execution_count": 14,
   "metadata": {},
   "outputs": [],
   "source": [
    "    imdb_movies = pd.read_excel('IMDB_datasets/imdb_movies.xlsx')\n",
    "    imdb_votes = pd.read_excel(r'IMDB_datasets/imdb_votes.xlsx')"
   ]
  },
  {
   "cell_type": "markdown",
   "metadata": {},
   "source": [
    "#### Exploring both dataframes and joining them"
   ]
  },
  {
   "cell_type": "code",
   "execution_count": 15,
   "metadata": {},
   "outputs": [
    {
     "data": {
      "text/html": [
       "<div>\n",
       "<style scoped>\n",
       "    .dataframe tbody tr th:only-of-type {\n",
       "        vertical-align: middle;\n",
       "    }\n",
       "\n",
       "    .dataframe tbody tr th {\n",
       "        vertical-align: top;\n",
       "    }\n",
       "\n",
       "    .dataframe thead th {\n",
       "        text-align: right;\n",
       "    }\n",
       "</style>\n",
       "<table border=\"1\" class=\"dataframe\">\n",
       "  <thead>\n",
       "    <tr style=\"text-align: right;\">\n",
       "      <th></th>\n",
       "      <th>imdb_title_id</th>\n",
       "      <th>avg_vote</th>\n",
       "    </tr>\n",
       "  </thead>\n",
       "  <tbody>\n",
       "    <tr>\n",
       "      <th>0</th>\n",
       "      <td>tt0000009</td>\n",
       "      <td>5.9</td>\n",
       "    </tr>\n",
       "    <tr>\n",
       "      <th>1</th>\n",
       "      <td>tt0000574</td>\n",
       "      <td>6.1</td>\n",
       "    </tr>\n",
       "    <tr>\n",
       "      <th>2</th>\n",
       "      <td>tt0001892</td>\n",
       "      <td>5.8</td>\n",
       "    </tr>\n",
       "    <tr>\n",
       "      <th>3</th>\n",
       "      <td>tt0002101</td>\n",
       "      <td>5.2</td>\n",
       "    </tr>\n",
       "    <tr>\n",
       "      <th>4</th>\n",
       "      <td>tt0002130</td>\n",
       "      <td>7.0</td>\n",
       "    </tr>\n",
       "  </tbody>\n",
       "</table>\n",
       "</div>"
      ],
      "text/plain": [
       "  imdb_title_id  avg_vote\n",
       "0     tt0000009       5.9\n",
       "1     tt0000574       6.1\n",
       "2     tt0001892       5.8\n",
       "3     tt0002101       5.2\n",
       "4     tt0002130       7.0"
      ]
     },
     "execution_count": 15,
     "metadata": {},
     "output_type": "execute_result"
    }
   ],
   "source": [
    "imdb_votes.head()"
   ]
  },
  {
   "cell_type": "code",
   "execution_count": 16,
   "metadata": {},
   "outputs": [
    {
     "data": {
      "text/html": [
       "<div>\n",
       "<style scoped>\n",
       "    .dataframe tbody tr th:only-of-type {\n",
       "        vertical-align: middle;\n",
       "    }\n",
       "\n",
       "    .dataframe tbody tr th {\n",
       "        vertical-align: top;\n",
       "    }\n",
       "\n",
       "    .dataframe thead th {\n",
       "        text-align: right;\n",
       "    }\n",
       "</style>\n",
       "<table border=\"1\" class=\"dataframe\">\n",
       "  <thead>\n",
       "    <tr style=\"text-align: right;\">\n",
       "      <th></th>\n",
       "      <th>imdb_title_id</th>\n",
       "      <th>title</th>\n",
       "      <th>director</th>\n",
       "    </tr>\n",
       "  </thead>\n",
       "  <tbody>\n",
       "    <tr>\n",
       "      <th>0</th>\n",
       "      <td>tt0000009</td>\n",
       "      <td>Miss Jerry</td>\n",
       "      <td>Alexander Black</td>\n",
       "    </tr>\n",
       "    <tr>\n",
       "      <th>1</th>\n",
       "      <td>tt0000574</td>\n",
       "      <td>The Story of the Kelly Gang</td>\n",
       "      <td>Charles Tait</td>\n",
       "    </tr>\n",
       "    <tr>\n",
       "      <th>2</th>\n",
       "      <td>tt0001892</td>\n",
       "      <td>Den sorte drøm</td>\n",
       "      <td>Urban Gad</td>\n",
       "    </tr>\n",
       "    <tr>\n",
       "      <th>3</th>\n",
       "      <td>tt0002101</td>\n",
       "      <td>Cleopatra</td>\n",
       "      <td>Charles L. Gaskill</td>\n",
       "    </tr>\n",
       "    <tr>\n",
       "      <th>4</th>\n",
       "      <td>tt0002130</td>\n",
       "      <td>L'Inferno</td>\n",
       "      <td>\"Francesco Bertolini, Adolfo Padovan\"</td>\n",
       "    </tr>\n",
       "  </tbody>\n",
       "</table>\n",
       "</div>"
      ],
      "text/plain": [
       "  imdb_title_id                        title  \\\n",
       "0     tt0000009                   Miss Jerry   \n",
       "1     tt0000574  The Story of the Kelly Gang   \n",
       "2     tt0001892               Den sorte drøm   \n",
       "3     tt0002101                    Cleopatra   \n",
       "4     tt0002130                    L'Inferno   \n",
       "\n",
       "                                director  \n",
       "0                        Alexander Black  \n",
       "1                           Charles Tait  \n",
       "2                              Urban Gad  \n",
       "3                     Charles L. Gaskill  \n",
       "4  \"Francesco Bertolini, Adolfo Padovan\"  "
      ]
     },
     "execution_count": 16,
     "metadata": {},
     "output_type": "execute_result"
    }
   ],
   "source": [
    "imdb_movies.head()"
   ]
  },
  {
   "cell_type": "code",
   "execution_count": 17,
   "metadata": {},
   "outputs": [],
   "source": [
    "# Merging based on title_id\n",
    "imdb = imdb_movies.merge(imdb_votes, on='imdb_title_id', how='left')"
   ]
  },
  {
   "cell_type": "markdown",
   "metadata": {},
   "source": [
    "**Checking for duplicates**"
   ]
  },
  {
   "cell_type": "code",
   "execution_count": 18,
   "metadata": {},
   "outputs": [
    {
     "data": {
      "text/plain": [
       "imdb_title_id    85854\n",
       "title            82093\n",
       "director         34733\n",
       "avg_vote            89\n",
       "dtype: int64"
      ]
     },
     "execution_count": 18,
     "metadata": {},
     "output_type": "execute_result"
    }
   ],
   "source": [
    "#Checking for uniqueness in each column\n",
    "imdb.nunique()"
   ]
  },
  {
   "cell_type": "code",
   "execution_count": 19,
   "metadata": {},
   "outputs": [
    {
     "name": "stdout",
     "output_type": "stream",
     "text": [
      "There are 31 duplicates between the title and director columns\n"
     ]
    }
   ],
   "source": [
    "# Checking for duplicates in title and director\n",
    "print(f'There are {imdb[[\"title\",\"director\"]].duplicated().sum()} duplicates between the title and director columns')"
   ]
  },
  {
   "cell_type": "code",
   "execution_count": 20,
   "metadata": {},
   "outputs": [
    {
     "data": {
      "text/html": [
       "<div>\n",
       "<style scoped>\n",
       "    .dataframe tbody tr th:only-of-type {\n",
       "        vertical-align: middle;\n",
       "    }\n",
       "\n",
       "    .dataframe tbody tr th {\n",
       "        vertical-align: top;\n",
       "    }\n",
       "\n",
       "    .dataframe thead th {\n",
       "        text-align: right;\n",
       "    }\n",
       "</style>\n",
       "<table border=\"1\" class=\"dataframe\">\n",
       "  <thead>\n",
       "    <tr style=\"text-align: right;\">\n",
       "      <th></th>\n",
       "      <th>imdb_title_id</th>\n",
       "      <th>title</th>\n",
       "      <th>director</th>\n",
       "      <th>avg_vote</th>\n",
       "    </tr>\n",
       "  </thead>\n",
       "  <tbody>\n",
       "    <tr>\n",
       "      <th>19458</th>\n",
       "      <td>tt0080880</td>\n",
       "      <td>A tutto gas</td>\n",
       "      <td>Les Rose</td>\n",
       "      <td>5.1</td>\n",
       "    </tr>\n",
       "    <tr>\n",
       "      <th>39645</th>\n",
       "      <td>tt0275942</td>\n",
       "      <td>Anno Domini 681</td>\n",
       "      <td>Ludmil Staikov</td>\n",
       "      <td>8.7</td>\n",
       "    </tr>\n",
       "    <tr>\n",
       "      <th>42626</th>\n",
       "      <td>tt0338769</td>\n",
       "      <td>Beauty and the Beast</td>\n",
       "      <td>David Lister</td>\n",
       "      <td>4.1</td>\n",
       "    </tr>\n",
       "    <tr>\n",
       "      <th>59689</th>\n",
       "      <td>tt1585558</td>\n",
       "      <td>Bodyguard</td>\n",
       "      <td>Siddique</td>\n",
       "      <td>6.7</td>\n",
       "    </tr>\n",
       "    <tr>\n",
       "      <th>3502</th>\n",
       "      <td>tt0032290</td>\n",
       "      <td>Buck Rogers</td>\n",
       "      <td>\"Ford Beebe, Saul A. Goodkind\"</td>\n",
       "      <td>6.9</td>\n",
       "    </tr>\n",
       "  </tbody>\n",
       "</table>\n",
       "</div>"
      ],
      "text/plain": [
       "      imdb_title_id                 title                        director  \\\n",
       "19458     tt0080880           A tutto gas                        Les Rose   \n",
       "39645     tt0275942       Anno Domini 681                  Ludmil Staikov   \n",
       "42626     tt0338769  Beauty and the Beast                    David Lister   \n",
       "59689     tt1585558             Bodyguard                        Siddique   \n",
       "3502      tt0032290           Buck Rogers  \"Ford Beebe, Saul A. Goodkind\"   \n",
       "\n",
       "       avg_vote  \n",
       "19458       5.1  \n",
       "39645       8.7  \n",
       "42626       4.1  \n",
       "59689       6.7  \n",
       "3502        6.9  "
      ]
     },
     "execution_count": 20,
     "metadata": {},
     "output_type": "execute_result"
    }
   ],
   "source": [
    "#Printing Duplicates To Explore Further \n",
    "imdb[imdb[['title','director']].duplicated(keep='last')].sort_values(by='title').head()"
   ]
  },
  {
   "cell_type": "markdown",
   "metadata": {},
   "source": [
    "To remove duplicates, we've decided to group based on the ```director``` and ```title``` column and then aggregating ```avg_vote``` to be the average of those two values, and ```imdb_title_id``` to be the first in the record (this is for no specific reason, just to have one of the ```title_id```'s).\n",
    "\n",
    "Alternatively, would have been to filter based on higest ```avg_vote```, achieved by sorting values on ```avg_vote``` and keep last of duplicates, or vice versa - which would also have been a consistent way of filtering."
   ]
  },
  {
   "cell_type": "code",
   "execution_count": 21,
   "metadata": {},
   "outputs": [],
   "source": [
    "#imdb = imdb.sort_values('avg_vote').drop_duplicates(subset=['title','director'], keep='last')\n",
    "imdb = (imdb\n",
    "        .groupby(['title', 'director'])\n",
    "        .agg(imdb_title_id=('imdb_title_id', 'first'), \n",
    "             avg_vote=('avg_vote', lambda x: sum(x)/len(x)))\n",
    "        .reset_index())"
   ]
  },
  {
   "cell_type": "markdown",
   "metadata": {},
   "source": [
    "## Task 5"
   ]
  },
  {
   "cell_type": "markdown",
   "metadata": {},
   "source": [
    "#### Netflix Table"
   ]
  },
  {
   "cell_type": "markdown",
   "metadata": {},
   "source": [
    "First we've decided to remove all TV Show rows from the netflix table, because only movies are included in the IMDB datasets"
   ]
  },
  {
   "cell_type": "code",
   "execution_count": 22,
   "metadata": {},
   "outputs": [],
   "source": [
    "netflix_movies = netflix[netflix.type == 'Movie']"
   ]
  },
  {
   "cell_type": "markdown",
   "metadata": {},
   "source": [
    "Because we can't very accurately from our data determine directors to fill the null values we've decided to remove rows with null director value.\n",
    "\n",
    "(We did try and merge based on title, but because many movies share the same title, this created lots of duplicate rows, with different directors for each)"
   ]
  },
  {
   "cell_type": "code",
   "execution_count": 23,
   "metadata": {},
   "outputs": [],
   "source": [
    "netflix_movies = netflix_movies.dropna(subset=['director'])"
   ]
  },
  {
   "cell_type": "markdown",
   "metadata": {},
   "source": [
    "Lastly, we transform the director and title columns into strings"
   ]
  },
  {
   "cell_type": "code",
   "execution_count": 24,
   "metadata": {},
   "outputs": [],
   "source": [
    "netflix_movies[['director','title']] = netflix_movies[['director', 'title']].astype('string')"
   ]
  },
  {
   "cell_type": "markdown",
   "metadata": {},
   "source": [
    "#### IMDB Table"
   ]
  },
  {
   "cell_type": "markdown",
   "metadata": {},
   "source": [
    "Removing quotation marks from director and title columns + removing leading and trailing single quotations, that could hinder merging"
   ]
  },
  {
   "cell_type": "code",
   "execution_count": 25,
   "metadata": {},
   "outputs": [],
   "source": [
    "imdb = imdb.assign(\n",
    "    director = lambda x: x.director.apply(lambda x: x.replace('\"', '')),\n",
    "    title = lambda x: x.title.apply(lambda x: x.replace('\"', '').strip(\"'\"))\n",
    ")"
   ]
  },
  {
   "cell_type": "markdown",
   "metadata": {},
   "source": [
    "#### Merging"
   ]
  },
  {
   "cell_type": "code",
   "execution_count": 26,
   "metadata": {},
   "outputs": [],
   "source": [
    "netflix_movies_imdb = netflix_movies.merge(imdb, on=['director','title'], how='left')"
   ]
  },
  {
   "cell_type": "code",
   "execution_count": 27,
   "metadata": {},
   "outputs": [
    {
     "data": {
      "text/html": [
       "<div>\n",
       "<style scoped>\n",
       "    .dataframe tbody tr th:only-of-type {\n",
       "        vertical-align: middle;\n",
       "    }\n",
       "\n",
       "    .dataframe tbody tr th {\n",
       "        vertical-align: top;\n",
       "    }\n",
       "\n",
       "    .dataframe thead th {\n",
       "        text-align: right;\n",
       "    }\n",
       "</style>\n",
       "<table border=\"1\" class=\"dataframe\">\n",
       "  <thead>\n",
       "    <tr style=\"text-align: right;\">\n",
       "      <th></th>\n",
       "      <th>show_id</th>\n",
       "      <th>type</th>\n",
       "      <th>title</th>\n",
       "      <th>director</th>\n",
       "      <th>cast</th>\n",
       "      <th>country</th>\n",
       "      <th>date_added</th>\n",
       "      <th>release_year</th>\n",
       "      <th>rating</th>\n",
       "      <th>duration</th>\n",
       "      <th>listed_in</th>\n",
       "      <th>description</th>\n",
       "      <th>continent</th>\n",
       "      <th>imdb_title_id</th>\n",
       "      <th>avg_vote</th>\n",
       "    </tr>\n",
       "  </thead>\n",
       "  <tbody>\n",
       "    <tr>\n",
       "      <th>0</th>\n",
       "      <td>s1</td>\n",
       "      <td>Movie</td>\n",
       "      <td>Dick Johnson Is Dead</td>\n",
       "      <td>Kirsten Johnson</td>\n",
       "      <td>NaN</td>\n",
       "      <td>United States</td>\n",
       "      <td>September 25, 2021</td>\n",
       "      <td>2020</td>\n",
       "      <td>PG-13</td>\n",
       "      <td>90 min</td>\n",
       "      <td>Documentaries</td>\n",
       "      <td>As her father nears the end of his life, filmm...</td>\n",
       "      <td>Americas</td>\n",
       "      <td>NaN</td>\n",
       "      <td>NaN</td>\n",
       "    </tr>\n",
       "    <tr>\n",
       "      <th>1</th>\n",
       "      <td>s7</td>\n",
       "      <td>Movie</td>\n",
       "      <td>My Little Pony: A New Generation</td>\n",
       "      <td>Robert Cullen, José Luis Ucha</td>\n",
       "      <td>Vanessa Hudgens, Kimiko Glenn, James Marsden, ...</td>\n",
       "      <td>NaN</td>\n",
       "      <td>September 24, 2021</td>\n",
       "      <td>2021</td>\n",
       "      <td>PG</td>\n",
       "      <td>91 min</td>\n",
       "      <td>Children &amp; Family Movies</td>\n",
       "      <td>Equestria's divided. But a bright-eyed hero be...</td>\n",
       "      <td>NaN</td>\n",
       "      <td>NaN</td>\n",
       "      <td>NaN</td>\n",
       "    </tr>\n",
       "    <tr>\n",
       "      <th>2</th>\n",
       "      <td>s8</td>\n",
       "      <td>Movie</td>\n",
       "      <td>Sankofa</td>\n",
       "      <td>Haile Gerima</td>\n",
       "      <td>Kofi Ghanaba, Oyafunmike Ogunlano, Alexandra D...</td>\n",
       "      <td>United States, Ghana, Burkina Faso, United Kin...</td>\n",
       "      <td>September 24, 2021</td>\n",
       "      <td>1993</td>\n",
       "      <td>TV-MA</td>\n",
       "      <td>125 min</td>\n",
       "      <td>Dramas, Independent Movies, International Movies</td>\n",
       "      <td>On a photo shoot in Ghana, an American model s...</td>\n",
       "      <td>Africa, Americas, Europe</td>\n",
       "      <td>tt0108041</td>\n",
       "      <td>6.9</td>\n",
       "    </tr>\n",
       "    <tr>\n",
       "      <th>3</th>\n",
       "      <td>s10</td>\n",
       "      <td>Movie</td>\n",
       "      <td>The Starling</td>\n",
       "      <td>Theodore Melfi</td>\n",
       "      <td>Melissa McCarthy, Chris O'Dowd, Kevin Kline, T...</td>\n",
       "      <td>United States</td>\n",
       "      <td>September 24, 2021</td>\n",
       "      <td>2021</td>\n",
       "      <td>PG-13</td>\n",
       "      <td>104 min</td>\n",
       "      <td>Comedies, Dramas</td>\n",
       "      <td>A woman adjusting to life after a loss contend...</td>\n",
       "      <td>Americas</td>\n",
       "      <td>NaN</td>\n",
       "      <td>NaN</td>\n",
       "    </tr>\n",
       "    <tr>\n",
       "      <th>4</th>\n",
       "      <td>s13</td>\n",
       "      <td>Movie</td>\n",
       "      <td>Je Suis Karl</td>\n",
       "      <td>Christian Schwochow</td>\n",
       "      <td>Luna Wedler, Jannis Niewöhner, Milan Peschel, ...</td>\n",
       "      <td>Germany, Czech Republic</td>\n",
       "      <td>September 23, 2021</td>\n",
       "      <td>2021</td>\n",
       "      <td>TV-MA</td>\n",
       "      <td>127 min</td>\n",
       "      <td>Dramas, International Movies</td>\n",
       "      <td>After most of her family is murdered in a terr...</td>\n",
       "      <td>Europe</td>\n",
       "      <td>NaN</td>\n",
       "      <td>NaN</td>\n",
       "    </tr>\n",
       "  </tbody>\n",
       "</table>\n",
       "</div>"
      ],
      "text/plain": [
       "  show_id   type                             title  \\\n",
       "0      s1  Movie              Dick Johnson Is Dead   \n",
       "1      s7  Movie  My Little Pony: A New Generation   \n",
       "2      s8  Movie                           Sankofa   \n",
       "3     s10  Movie                      The Starling   \n",
       "4     s13  Movie                      Je Suis Karl   \n",
       "\n",
       "                        director  \\\n",
       "0                Kirsten Johnson   \n",
       "1  Robert Cullen, José Luis Ucha   \n",
       "2                   Haile Gerima   \n",
       "3                 Theodore Melfi   \n",
       "4            Christian Schwochow   \n",
       "\n",
       "                                                cast  \\\n",
       "0                                                NaN   \n",
       "1  Vanessa Hudgens, Kimiko Glenn, James Marsden, ...   \n",
       "2  Kofi Ghanaba, Oyafunmike Ogunlano, Alexandra D...   \n",
       "3  Melissa McCarthy, Chris O'Dowd, Kevin Kline, T...   \n",
       "4  Luna Wedler, Jannis Niewöhner, Milan Peschel, ...   \n",
       "\n",
       "                                             country          date_added  \\\n",
       "0                                      United States  September 25, 2021   \n",
       "1                                                NaN  September 24, 2021   \n",
       "2  United States, Ghana, Burkina Faso, United Kin...  September 24, 2021   \n",
       "3                                      United States  September 24, 2021   \n",
       "4                            Germany, Czech Republic  September 23, 2021   \n",
       "\n",
       "   release_year rating duration  \\\n",
       "0          2020  PG-13   90 min   \n",
       "1          2021     PG   91 min   \n",
       "2          1993  TV-MA  125 min   \n",
       "3          2021  PG-13  104 min   \n",
       "4          2021  TV-MA  127 min   \n",
       "\n",
       "                                          listed_in  \\\n",
       "0                                     Documentaries   \n",
       "1                          Children & Family Movies   \n",
       "2  Dramas, Independent Movies, International Movies   \n",
       "3                                  Comedies, Dramas   \n",
       "4                      Dramas, International Movies   \n",
       "\n",
       "                                         description  \\\n",
       "0  As her father nears the end of his life, filmm...   \n",
       "1  Equestria's divided. But a bright-eyed hero be...   \n",
       "2  On a photo shoot in Ghana, an American model s...   \n",
       "3  A woman adjusting to life after a loss contend...   \n",
       "4  After most of her family is murdered in a terr...   \n",
       "\n",
       "                  continent imdb_title_id  avg_vote  \n",
       "0                  Americas           NaN       NaN  \n",
       "1                       NaN           NaN       NaN  \n",
       "2  Africa, Americas, Europe     tt0108041       6.9  \n",
       "3                  Americas           NaN       NaN  \n",
       "4                    Europe           NaN       NaN  "
      ]
     },
     "execution_count": 27,
     "metadata": {},
     "output_type": "execute_result"
    }
   ],
   "source": [
    "netflix_movies_imdb.head()"
   ]
  },
  {
   "cell_type": "markdown",
   "metadata": {},
   "source": [
    "## Task 6"
   ]
  },
  {
   "cell_type": "markdown",
   "metadata": {},
   "source": [
    "In order to find all movies that appear in both, we can remove all null values, as any row in the netflix movies table, that does not match any rows in the IMDB table, will produce a null value."
   ]
  },
  {
   "cell_type": "code",
   "execution_count": 28,
   "metadata": {},
   "outputs": [],
   "source": [
    "netflix_movies_imdb = netflix_movies_imdb[netflix_movies_imdb.imdb_title_id.notna()]"
   ]
  },
  {
   "cell_type": "code",
   "execution_count": 29,
   "metadata": {},
   "outputs": [
    {
     "data": {
      "text/html": [
       "<div>\n",
       "<style scoped>\n",
       "    .dataframe tbody tr th:only-of-type {\n",
       "        vertical-align: middle;\n",
       "    }\n",
       "\n",
       "    .dataframe tbody tr th {\n",
       "        vertical-align: top;\n",
       "    }\n",
       "\n",
       "    .dataframe thead th {\n",
       "        text-align: right;\n",
       "    }\n",
       "</style>\n",
       "<table border=\"1\" class=\"dataframe\">\n",
       "  <thead>\n",
       "    <tr style=\"text-align: right;\">\n",
       "      <th></th>\n",
       "      <th>show_id</th>\n",
       "      <th>type</th>\n",
       "      <th>title</th>\n",
       "      <th>director</th>\n",
       "      <th>cast</th>\n",
       "      <th>country</th>\n",
       "      <th>date_added</th>\n",
       "      <th>release_year</th>\n",
       "      <th>rating</th>\n",
       "      <th>duration</th>\n",
       "      <th>listed_in</th>\n",
       "      <th>description</th>\n",
       "      <th>continent</th>\n",
       "      <th>imdb_title_id</th>\n",
       "      <th>avg_vote</th>\n",
       "    </tr>\n",
       "  </thead>\n",
       "  <tbody>\n",
       "    <tr>\n",
       "      <th>2</th>\n",
       "      <td>s8</td>\n",
       "      <td>Movie</td>\n",
       "      <td>Sankofa</td>\n",
       "      <td>Haile Gerima</td>\n",
       "      <td>Kofi Ghanaba, Oyafunmike Ogunlano, Alexandra D...</td>\n",
       "      <td>United States, Ghana, Burkina Faso, United Kin...</td>\n",
       "      <td>September 24, 2021</td>\n",
       "      <td>1993</td>\n",
       "      <td>TV-MA</td>\n",
       "      <td>125 min</td>\n",
       "      <td>Dramas, Independent Movies, International Movies</td>\n",
       "      <td>On a photo shoot in Ghana, an American model s...</td>\n",
       "      <td>Africa, Americas, Europe</td>\n",
       "      <td>tt0108041</td>\n",
       "      <td>6.9</td>\n",
       "    </tr>\n",
       "    <tr>\n",
       "      <th>10</th>\n",
       "      <td>s25</td>\n",
       "      <td>Movie</td>\n",
       "      <td>Jeans</td>\n",
       "      <td>S. Shankar</td>\n",
       "      <td>Prashanth, Aishwarya Rai Bachchan, Sri Lakshmi...</td>\n",
       "      <td>India</td>\n",
       "      <td>September 21, 2021</td>\n",
       "      <td>1998</td>\n",
       "      <td>TV-14</td>\n",
       "      <td>166 min</td>\n",
       "      <td>Comedies, International Movies, Romantic Movies</td>\n",
       "      <td>When the father of the man she loves insists t...</td>\n",
       "      <td>Asia</td>\n",
       "      <td>tt0151121</td>\n",
       "      <td>6.5</td>\n",
       "    </tr>\n",
       "    <tr>\n",
       "      <th>25</th>\n",
       "      <td>s49</td>\n",
       "      <td>Movie</td>\n",
       "      <td>Training Day</td>\n",
       "      <td>Antoine Fuqua</td>\n",
       "      <td>Denzel Washington, Ethan Hawke, Scott Glenn, T...</td>\n",
       "      <td>United States</td>\n",
       "      <td>September 16, 2021</td>\n",
       "      <td>2001</td>\n",
       "      <td>R</td>\n",
       "      <td>122 min</td>\n",
       "      <td>Dramas, Thrillers</td>\n",
       "      <td>A rookie cop with one day to prove himself to ...</td>\n",
       "      <td>Americas</td>\n",
       "      <td>tt0139654</td>\n",
       "      <td>7.7</td>\n",
       "    </tr>\n",
       "    <tr>\n",
       "      <th>41</th>\n",
       "      <td>s74</td>\n",
       "      <td>Movie</td>\n",
       "      <td>King of Boys</td>\n",
       "      <td>Kemi Adetiba</td>\n",
       "      <td>Sola Sobowale, Adesua Etomi, Remilekun \"Remini...</td>\n",
       "      <td>Nigeria</td>\n",
       "      <td>September 14, 2021</td>\n",
       "      <td>2018</td>\n",
       "      <td>TV-MA</td>\n",
       "      <td>182 min</td>\n",
       "      <td>Dramas, International Movies</td>\n",
       "      <td>When a powerful businesswoman’s political ambi...</td>\n",
       "      <td>Africa</td>\n",
       "      <td>tt8329618</td>\n",
       "      <td>5.8</td>\n",
       "    </tr>\n",
       "    <tr>\n",
       "      <th>51</th>\n",
       "      <td>s91</td>\n",
       "      <td>Movie</td>\n",
       "      <td>Paradise Hills</td>\n",
       "      <td>Alice Waddington</td>\n",
       "      <td>Emma Roberts, Danielle Macdonald, Awkwafina, E...</td>\n",
       "      <td>Spain, United States</td>\n",
       "      <td>September 9, 2021</td>\n",
       "      <td>2019</td>\n",
       "      <td>TV-MA</td>\n",
       "      <td>95 min</td>\n",
       "      <td>Sci-Fi &amp; Fantasy, Thrillers</td>\n",
       "      <td>Uma wakes up in a lush tropical facility desig...</td>\n",
       "      <td>Americas, Europe</td>\n",
       "      <td>tt6127004</td>\n",
       "      <td>5.6</td>\n",
       "    </tr>\n",
       "  </tbody>\n",
       "</table>\n",
       "</div>"
      ],
      "text/plain": [
       "   show_id   type           title          director  \\\n",
       "2       s8  Movie         Sankofa      Haile Gerima   \n",
       "10     s25  Movie           Jeans        S. Shankar   \n",
       "25     s49  Movie    Training Day     Antoine Fuqua   \n",
       "41     s74  Movie    King of Boys      Kemi Adetiba   \n",
       "51     s91  Movie  Paradise Hills  Alice Waddington   \n",
       "\n",
       "                                                 cast  \\\n",
       "2   Kofi Ghanaba, Oyafunmike Ogunlano, Alexandra D...   \n",
       "10  Prashanth, Aishwarya Rai Bachchan, Sri Lakshmi...   \n",
       "25  Denzel Washington, Ethan Hawke, Scott Glenn, T...   \n",
       "41  Sola Sobowale, Adesua Etomi, Remilekun \"Remini...   \n",
       "51  Emma Roberts, Danielle Macdonald, Awkwafina, E...   \n",
       "\n",
       "                                              country          date_added  \\\n",
       "2   United States, Ghana, Burkina Faso, United Kin...  September 24, 2021   \n",
       "10                                              India  September 21, 2021   \n",
       "25                                      United States  September 16, 2021   \n",
       "41                                            Nigeria  September 14, 2021   \n",
       "51                               Spain, United States   September 9, 2021   \n",
       "\n",
       "    release_year rating duration  \\\n",
       "2           1993  TV-MA  125 min   \n",
       "10          1998  TV-14  166 min   \n",
       "25          2001      R  122 min   \n",
       "41          2018  TV-MA  182 min   \n",
       "51          2019  TV-MA   95 min   \n",
       "\n",
       "                                           listed_in  \\\n",
       "2   Dramas, Independent Movies, International Movies   \n",
       "10   Comedies, International Movies, Romantic Movies   \n",
       "25                                 Dramas, Thrillers   \n",
       "41                      Dramas, International Movies   \n",
       "51                       Sci-Fi & Fantasy, Thrillers   \n",
       "\n",
       "                                          description  \\\n",
       "2   On a photo shoot in Ghana, an American model s...   \n",
       "10  When the father of the man she loves insists t...   \n",
       "25  A rookie cop with one day to prove himself to ...   \n",
       "41  When a powerful businesswoman’s political ambi...   \n",
       "51  Uma wakes up in a lush tropical facility desig...   \n",
       "\n",
       "                   continent imdb_title_id  avg_vote  \n",
       "2   Africa, Americas, Europe     tt0108041       6.9  \n",
       "10                      Asia     tt0151121       6.5  \n",
       "25                  Americas     tt0139654       7.7  \n",
       "41                    Africa     tt8329618       5.8  \n",
       "51          Americas, Europe     tt6127004       5.6  "
      ]
     },
     "execution_count": 29,
     "metadata": {},
     "output_type": "execute_result"
    }
   ],
   "source": [
    "netflix_movies_imdb.head()"
   ]
  },
  {
   "cell_type": "markdown",
   "metadata": {},
   "source": [
    "## Task 7"
   ]
  },
  {
   "cell_type": "markdown",
   "metadata": {},
   "source": [
    "Finding top 10 comedies, by finding all rows that contain Comedies in ```listed_id``` column and then sorting based on ``avg_vote``"
   ]
  },
  {
   "cell_type": "code",
   "execution_count": 30,
   "metadata": {},
   "outputs": [],
   "source": [
    "netflix_comedies = netflix_movies_imdb[netflix_movies_imdb.listed_in.str.contains('Comedies')]\n",
    "top_10 = netflix_comedies.sort_values(by='avg_vote', ascending=False).head(10)"
   ]
  },
  {
   "cell_type": "markdown",
   "metadata": {},
   "source": [
    "### Subtask a."
   ]
  },
  {
   "cell_type": "code",
   "execution_count": 31,
   "metadata": {},
   "outputs": [
    {
     "name": "stdout",
     "output_type": "stream",
     "text": [
      "These are the release years of the top 10: \n",
      "2019    2\n",
      "1979    1\n",
      "2009    1\n",
      "2017    1\n",
      "2018    1\n",
      "1975    1\n",
      "1994    1\n",
      "2014    1\n",
      "2001    1\n",
      "Name: release_year, dtype: int64\n"
     ]
    }
   ],
   "source": [
    "print(f'These are the release years of the top 10: \\n{top_10.release_year.value_counts()}')"
   ]
  },
  {
   "cell_type": "markdown",
   "metadata": {},
   "source": [
    "### Subtask b."
   ]
  },
  {
   "cell_type": "code",
   "execution_count": 32,
   "metadata": {},
   "outputs": [
    {
     "name": "stdout",
     "output_type": "stream",
     "text": [
      "Movies continent: \n",
      "Asia    10\n",
      "Name: continent, dtype: int64\n"
     ]
    }
   ],
   "source": [
    "print(f'Movies continent: \\n{top_10.continent.value_counts()}')"
   ]
  },
  {
   "cell_type": "markdown",
   "metadata": {},
   "source": [
    "## Task 8"
   ]
  },
  {
   "cell_type": "markdown",
   "metadata": {},
   "source": []
  }
 ],
 "metadata": {
  "interpreter": {
   "hash": "40d3a090f54c6569ab1632332b64b2c03c39dcf918b08424e98f38b5ae0af88f"
  },
  "kernelspec": {
   "display_name": "Python 3.9.7 ('base')",
   "language": "python",
   "name": "python3"
  },
  "language_info": {
   "codemirror_mode": {
    "name": "ipython",
    "version": 3
   },
   "file_extension": ".py",
   "mimetype": "text/x-python",
   "name": "python",
   "nbconvert_exporter": "python",
   "pygments_lexer": "ipython3",
   "version": "3.9.7"
  },
  "orig_nbformat": 4
 },
 "nbformat": 4,
 "nbformat_minor": 2
}
